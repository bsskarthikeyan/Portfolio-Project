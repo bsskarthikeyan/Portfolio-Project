{
 "cells": [
  {
   "cell_type": "code",
   "execution_count": 1,
   "id": "94ea6743",
   "metadata": {},
   "outputs": [],
   "source": [
    "from bs4 import BeautifulSoup\n",
    "import requests\n",
    "import time\n",
    "import datetime\n"
   ]
  },
  {
   "cell_type": "code",
   "execution_count": 2,
   "id": "172b67a1",
   "metadata": {},
   "outputs": [
    {
     "name": "stdout",
     "output_type": "stream",
     "text": [
      "\n",
      "            ZEBRONICS Zeb-Bro in Ear Wired Earphones with Mic, 3.5mm Audio Jack, 10mm Drivers, Phone/Tablet Compatible(Green)\n",
      "           \n",
      "\n",
      "                          149\n",
      "                          \n",
      "                           .\n",
      "                          \n",
      "\n"
     ]
    }
   ],
   "source": [
    "# Connecting to the website to pull the data\n",
    "\n",
    "url = 'https://www.amazon.in/ZEBRONICS-Zeb-Bro-Earphones-Compatible-Green/dp/B09R24JBYV?ref_=Oct_DLandingS_D_8a8cca43_62'\n",
    "\n",
    "# user agent link: https://httpbin.org/get\n",
    "\n",
    "headers = {'User-Agent':'Mozilla/5.0 (Windows NT 10.0; Win64; x64; rv:109.0) Gecko/20100101 Firefox/110.0',\n",
    "            'Accept':\"text/html,application/xhtml+xml,application/xml;q=0.9,image/avif,image/webp,*/*;q=0.8\",\n",
    "            'Accept-Encoding':\"gzip, deflate, br\"}\n",
    "\n",
    "page = requests.get(url, headers=headers)\n",
    "\n",
    "soup1 = BeautifulSoup(page.content, \"html.parser\")\n",
    "\n",
    "soup2 = BeautifulSoup(soup1.prettify(), \"html.parser\")\n",
    "\n",
    "title = soup2.find(id='productTitle').get_text()\n",
    "\n",
    "price = soup2.find(class_=\"a-price-whole\").get_text()\n",
    "\n",
    "\n",
    "print(title)\n",
    "print(price)\n"
   ]
  },
  {
   "cell_type": "code",
   "execution_count": 31,
   "id": "0ff3642a",
   "metadata": {},
   "outputs": [
    {
     "name": "stdout",
     "output_type": "stream",
     "text": [
      "ZEBRONICS Zeb-Bro in Ear Wired Earphones with Mic, 3.5mm Audio Jack, 10mm Drivers, Phone/Tablet Compatible(Green)\n",
      "149\n"
     ]
    }
   ],
   "source": [
    "# Cleaning the data \n",
    "\n",
    "price=price.replace('.','')\n",
    "price = price.strip()\n",
    "title = title.strip()\n",
    "\n",
    "print(title)\n",
    "print(price)"
   ]
  },
  {
   "cell_type": "code",
   "execution_count": 32,
   "id": "18fdfd97",
   "metadata": {},
   "outputs": [
    {
     "name": "stdout",
     "output_type": "stream",
     "text": [
      "2023-03-09\n"
     ]
    }
   ],
   "source": [
    "# Creating date to find out when the data was pulled\n",
    "\n",
    "import datetime\n",
    "\n",
    "today = datetime.date.today()\n",
    "\n",
    "print(today)"
   ]
  },
  {
   "cell_type": "code",
   "execution_count": 58,
   "id": "4e513942",
   "metadata": {},
   "outputs": [],
   "source": [
    "# Adding the data into the csv file\n",
    "\n",
    "import csv\n",
    "\n",
    "header=['Title','Price','Date']\n",
    "data=[title,int(price),today]\n",
    "\n",
    "with open('Amazon_web_scrap_data.csv','w',newline='') as f:\n",
    "    writer= csv.writer(f)\n",
    "    writer.writerow(header)\n",
    "    writer.writerow(data)"
   ]
  },
  {
   "cell_type": "code",
   "execution_count": 50,
   "id": "7ecf1de4",
   "metadata": {},
   "outputs": [],
   "source": [
    "# appending the data into file\n",
    "\n",
    "with open('Amazon_web_scrap_data.csv','a+',newline='') as f:\n",
    "    writer=csv.writer(f)\n",
    "    writer.writerow(data)"
   ]
  },
  {
   "cell_type": "code",
   "execution_count": 61,
   "id": "00e3fb95",
   "metadata": {},
   "outputs": [
    {
     "data": {
      "text/html": [
       "<div>\n",
       "<style scoped>\n",
       "    .dataframe tbody tr th:only-of-type {\n",
       "        vertical-align: middle;\n",
       "    }\n",
       "\n",
       "    .dataframe tbody tr th {\n",
       "        vertical-align: top;\n",
       "    }\n",
       "\n",
       "    .dataframe thead th {\n",
       "        text-align: right;\n",
       "    }\n",
       "</style>\n",
       "<table border=\"1\" class=\"dataframe\">\n",
       "  <thead>\n",
       "    <tr style=\"text-align: right;\">\n",
       "      <th></th>\n",
       "      <th>Title</th>\n",
       "      <th>Price</th>\n",
       "      <th>Date</th>\n",
       "    </tr>\n",
       "  </thead>\n",
       "  <tbody>\n",
       "    <tr>\n",
       "      <th>0</th>\n",
       "      <td>ZEBRONICS Zeb-Bro in Ear Wired Earphones with ...</td>\n",
       "      <td>149</td>\n",
       "      <td>2023-03-09</td>\n",
       "    </tr>\n",
       "    <tr>\n",
       "      <th>1</th>\n",
       "      <td>ZEBRONICS Zeb-Bro in Ear Wired Earphones with ...</td>\n",
       "      <td>149</td>\n",
       "      <td>2023-03-09</td>\n",
       "    </tr>\n",
       "    <tr>\n",
       "      <th>2</th>\n",
       "      <td>ZEBRONICS Zeb-Bro in Ear Wired Earphones with ...</td>\n",
       "      <td>149</td>\n",
       "      <td>2023-03-09</td>\n",
       "    </tr>\n",
       "    <tr>\n",
       "      <th>3</th>\n",
       "      <td>ZEBRONICS Zeb-Bro in Ear Wired Earphones with ...</td>\n",
       "      <td>149</td>\n",
       "      <td>2023-03-09</td>\n",
       "    </tr>\n",
       "    <tr>\n",
       "      <th>4</th>\n",
       "      <td>ZEBRONICS Zeb-Bro in Ear Wired Earphones with ...</td>\n",
       "      <td>149</td>\n",
       "      <td>2023-03-09</td>\n",
       "    </tr>\n",
       "    <tr>\n",
       "      <th>5</th>\n",
       "      <td>ZEBRONICS Zeb-Bro in Ear Wired Earphones with ...</td>\n",
       "      <td>149</td>\n",
       "      <td>2023-03-09</td>\n",
       "    </tr>\n",
       "  </tbody>\n",
       "</table>\n",
       "</div>"
      ],
      "text/plain": [
       "                                               Title  Price        Date\n",
       "0  ZEBRONICS Zeb-Bro in Ear Wired Earphones with ...    149  2023-03-09\n",
       "1  ZEBRONICS Zeb-Bro in Ear Wired Earphones with ...    149  2023-03-09\n",
       "2  ZEBRONICS Zeb-Bro in Ear Wired Earphones with ...    149  2023-03-09\n",
       "3  ZEBRONICS Zeb-Bro in Ear Wired Earphones with ...    149  2023-03-09\n",
       "4  ZEBRONICS Zeb-Bro in Ear Wired Earphones with ...    149  2023-03-09\n",
       "5  ZEBRONICS Zeb-Bro in Ear Wired Earphones with ...    149  2023-03-09"
      ]
     },
     "execution_count": 61,
     "metadata": {},
     "output_type": "execute_result"
    }
   ],
   "source": [
    "# Reading the data added into csv file\n",
    "\n",
    "import pandas as pd\n",
    "\n",
    "df = pd.read_csv(r'C:\\Users\\karth\\Portfolio Project\\Amazon_web_scrap_data.csv')\n",
    "\n",
    "df"
   ]
  },
  {
   "cell_type": "code",
   "execution_count": 62,
   "id": "8d582a32",
   "metadata": {},
   "outputs": [],
   "source": [
    "# combining all the above code into function\n",
    "\n",
    "def check_price():\n",
    "    url = 'https://www.amazon.in/ZEBRONICS-Zeb-Bro-Earphones-Compatible-Green/dp/B09R24JBYV?ref_=Oct_DLandingS_D_8a8cca43_62'\n",
    "    \n",
    "    headers = {'User-Agent':'Mozilla/5.0 (Windows NT 10.0; Win64; x64; rv:109.0) Gecko/20100101 Firefox/110.0',\n",
    "            'Accept':\"text/html,application/xhtml+xml,application/xml;q=0.9,image/avif,image/webp,*/*;q=0.8\",\n",
    "            'Accept-Encoding':\"gzip, deflate, br\"}\n",
    "\n",
    "    page = requests.get(url, headers=headers)\n",
    "\n",
    "    soup1 = BeautifulSoup(page.content, \"html.parser\")\n",
    "\n",
    "    soup2 = BeautifulSoup(soup1.prettify(), \"html.parser\")\n",
    "\n",
    "    title = soup2.find(id='productTitle').get_text()\n",
    "\n",
    "    price = soup2.find(class_=\"a-price-whole\").get_text()\n",
    "    \n",
    "    price=price.replace('.','')\n",
    "    \n",
    "    price = price.strip()\n",
    "    \n",
    "    title = title.strip()\n",
    "    \n",
    "    today = datetime.date.today()\n",
    "    \n",
    "    data=[title,int(price),today]\n",
    "    \n",
    "    import csv\n",
    "    \n",
    "    with open('Amazon_web_scrap_data.csv','a+',newline='') as f:\n",
    "        writer=csv.writer(f)\n",
    "        writer.writerow(data)\n",
    "    \n",
    "    \n",
    "    \n",
    "    "
   ]
  },
  {
   "cell_type": "code",
   "execution_count": 60,
   "id": "bff31670",
   "metadata": {},
   "outputs": [
    {
     "ename": "KeyboardInterrupt",
     "evalue": "",
     "output_type": "error",
     "traceback": [
      "\u001b[1;31m---------------------------------------------------------------------------\u001b[0m",
      "\u001b[1;31mKeyboardInterrupt\u001b[0m                         Traceback (most recent call last)",
      "Input \u001b[1;32mIn [60]\u001b[0m, in \u001b[0;36m<cell line: 4>\u001b[1;34m()\u001b[0m\n\u001b[0;32m      3\u001b[0m \u001b[38;5;28;01mwhile\u001b[39;00m \u001b[38;5;28;01mTrue\u001b[39;00m:\n\u001b[0;32m      4\u001b[0m     check_price()\n\u001b[1;32m----> 5\u001b[0m     \u001b[43mtime\u001b[49m\u001b[38;5;241;43m.\u001b[39;49m\u001b[43msleep\u001b[49m\u001b[43m(\u001b[49m\u001b[38;5;241;43m10\u001b[39;49m\u001b[43m)\u001b[49m\n",
      "\u001b[1;31mKeyboardInterrupt\u001b[0m: "
     ]
    }
   ],
   "source": [
    "# automating the function by running the function after a set time and inputs the data into csv \n",
    "\n",
    "while True:\n",
    "    check_price()\n",
    "    time.sleep(10)"
   ]
  },
  {
   "cell_type": "code",
   "execution_count": null,
   "id": "f41ac941",
   "metadata": {},
   "outputs": [],
   "source": []
  },
  {
   "cell_type": "code",
   "execution_count": null,
   "id": "e9f838b1",
   "metadata": {},
   "outputs": [],
   "source": []
  },
  {
   "cell_type": "code",
   "execution_count": null,
   "id": "d898468b",
   "metadata": {},
   "outputs": [],
   "source": []
  },
  {
   "cell_type": "code",
   "execution_count": null,
   "id": "33109e14",
   "metadata": {},
   "outputs": [],
   "source": []
  },
  {
   "cell_type": "code",
   "execution_count": null,
   "id": "7839ec71",
   "metadata": {},
   "outputs": [],
   "source": []
  },
  {
   "cell_type": "code",
   "execution_count": null,
   "id": "481bff1e",
   "metadata": {},
   "outputs": [],
   "source": []
  }
 ],
 "metadata": {
  "kernelspec": {
   "display_name": "Python 3 (ipykernel)",
   "language": "python",
   "name": "python3"
  },
  "language_info": {
   "codemirror_mode": {
    "name": "ipython",
    "version": 3
   },
   "file_extension": ".py",
   "mimetype": "text/x-python",
   "name": "python",
   "nbconvert_exporter": "python",
   "pygments_lexer": "ipython3",
   "version": "3.9.12"
  }
 },
 "nbformat": 4,
 "nbformat_minor": 5
}
